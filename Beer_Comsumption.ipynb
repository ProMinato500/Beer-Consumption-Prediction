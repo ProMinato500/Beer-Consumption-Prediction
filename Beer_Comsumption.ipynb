{
  "nbformat": 4,
  "nbformat_minor": 0,
  "metadata": {
    "colab": {
      "name": "Beer Comsumption.ipynb",
      "provenance": [],
      "authorship_tag": "ABX9TyOpOeF+LKLY+T6g5SL3KYZU",
      "include_colab_link": true
    },
    "kernelspec": {
      "name": "python3",
      "display_name": "Python 3"
    },
    "language_info": {
      "name": "python"
    }
  },
  "cells": [
    {
      "cell_type": "markdown",
      "metadata": {
        "id": "view-in-github",
        "colab_type": "text"
      },
      "source": [
        "<a href=\"https://colab.research.google.com/github/ProMinato500/Beer-Consumption-Prediction/blob/main/Beer_Comsumption.ipynb\" target=\"_parent\"><img src=\"https://colab.research.google.com/assets/colab-badge.svg\" alt=\"Open In Colab\"/></a>"
      ]
    },
    {
      "cell_type": "code",
      "metadata": {
        "id": "GE51kVE3fVk2"
      },
      "source": [
        "import numpy as np\n",
        "import pandas as pd\n",
        "import datetime\n",
        "import seaborn as sns\n",
        "import matplotlib.pyplot as plt\n",
        "from sklearn.metrics import confusion_matrix\n",
        "from sklearn import metrics"
      ],
      "execution_count": 1,
      "outputs": []
    },
    {
      "cell_type": "code",
      "metadata": {
        "id": "SYYty2dNfYzI"
      },
      "source": [
        "beer_data = pd.read_csv('/content/Consumo_cerveja.csv')"
      ],
      "execution_count": 2,
      "outputs": []
    },
    {
      "cell_type": "code",
      "metadata": {
        "colab": {
          "base_uri": "https://localhost:8080/",
          "height": 321
        },
        "id": "WKJgutZtfh5_",
        "outputId": "42c52a3f-8d84-4ed2-cf96-f2da10595e0e"
      },
      "source": [
        "beer_data.head()"
      ],
      "execution_count": 3,
      "outputs": [
        {
          "output_type": "execute_result",
          "data": {
            "text/html": [
              "<div>\n",
              "<style scoped>\n",
              "    .dataframe tbody tr th:only-of-type {\n",
              "        vertical-align: middle;\n",
              "    }\n",
              "\n",
              "    .dataframe tbody tr th {\n",
              "        vertical-align: top;\n",
              "    }\n",
              "\n",
              "    .dataframe thead th {\n",
              "        text-align: right;\n",
              "    }\n",
              "</style>\n",
              "<table border=\"1\" class=\"dataframe\">\n",
              "  <thead>\n",
              "    <tr style=\"text-align: right;\">\n",
              "      <th></th>\n",
              "      <th>Data</th>\n",
              "      <th>Temperatura Media (C)</th>\n",
              "      <th>Temperatura Minima (C)</th>\n",
              "      <th>Temperatura Maxima (C)</th>\n",
              "      <th>Precipitacao (mm)</th>\n",
              "      <th>Final de Semana</th>\n",
              "      <th>Consumo de cerveja (litros)</th>\n",
              "    </tr>\n",
              "  </thead>\n",
              "  <tbody>\n",
              "    <tr>\n",
              "      <th>0</th>\n",
              "      <td>2015-01-01</td>\n",
              "      <td>27,3</td>\n",
              "      <td>23,9</td>\n",
              "      <td>32,5</td>\n",
              "      <td>0</td>\n",
              "      <td>0.0</td>\n",
              "      <td>25.461</td>\n",
              "    </tr>\n",
              "    <tr>\n",
              "      <th>1</th>\n",
              "      <td>2015-01-02</td>\n",
              "      <td>27,02</td>\n",
              "      <td>24,5</td>\n",
              "      <td>33,5</td>\n",
              "      <td>0</td>\n",
              "      <td>0.0</td>\n",
              "      <td>28.972</td>\n",
              "    </tr>\n",
              "    <tr>\n",
              "      <th>2</th>\n",
              "      <td>2015-01-03</td>\n",
              "      <td>24,82</td>\n",
              "      <td>22,4</td>\n",
              "      <td>29,9</td>\n",
              "      <td>0</td>\n",
              "      <td>1.0</td>\n",
              "      <td>30.814</td>\n",
              "    </tr>\n",
              "    <tr>\n",
              "      <th>3</th>\n",
              "      <td>2015-01-04</td>\n",
              "      <td>23,98</td>\n",
              "      <td>21,5</td>\n",
              "      <td>28,6</td>\n",
              "      <td>1,2</td>\n",
              "      <td>1.0</td>\n",
              "      <td>29.799</td>\n",
              "    </tr>\n",
              "    <tr>\n",
              "      <th>4</th>\n",
              "      <td>2015-01-05</td>\n",
              "      <td>23,82</td>\n",
              "      <td>21</td>\n",
              "      <td>28,3</td>\n",
              "      <td>0</td>\n",
              "      <td>0.0</td>\n",
              "      <td>28.900</td>\n",
              "    </tr>\n",
              "  </tbody>\n",
              "</table>\n",
              "</div>"
            ],
            "text/plain": [
              "         Data  ... Consumo de cerveja (litros)\n",
              "0  2015-01-01  ...                      25.461\n",
              "1  2015-01-02  ...                      28.972\n",
              "2  2015-01-03  ...                      30.814\n",
              "3  2015-01-04  ...                      29.799\n",
              "4  2015-01-05  ...                      28.900\n",
              "\n",
              "[5 rows x 7 columns]"
            ]
          },
          "metadata": {
            "tags": []
          },
          "execution_count": 3
        }
      ]
    },
    {
      "cell_type": "code",
      "metadata": {
        "colab": {
          "base_uri": "https://localhost:8080/"
        },
        "id": "R82wndp1fkE1",
        "outputId": "b4ad10ec-b5c5-4db5-803e-902b3db78c2a"
      },
      "source": [
        "beer_data.columns"
      ],
      "execution_count": 4,
      "outputs": [
        {
          "output_type": "execute_result",
          "data": {
            "text/plain": [
              "Index(['Data', 'Temperatura Media (C)', 'Temperatura Minima (C)',\n",
              "       'Temperatura Maxima (C)', 'Precipitacao (mm)', 'Final de Semana',\n",
              "       'Consumo de cerveja (litros)'],\n",
              "      dtype='object')"
            ]
          },
          "metadata": {
            "tags": []
          },
          "execution_count": 4
        }
      ]
    },
    {
      "cell_type": "code",
      "metadata": {
        "colab": {
          "base_uri": "https://localhost:8080/"
        },
        "id": "IY7xZvLafl6d",
        "outputId": "d09e171b-5137-43af-c20d-e874c4732c96"
      },
      "source": [
        "beer_data.shape"
      ],
      "execution_count": 5,
      "outputs": [
        {
          "output_type": "execute_result",
          "data": {
            "text/plain": [
              "(941, 7)"
            ]
          },
          "metadata": {
            "tags": []
          },
          "execution_count": 5
        }
      ]
    },
    {
      "cell_type": "code",
      "metadata": {
        "colab": {
          "base_uri": "https://localhost:8080/",
          "height": 295
        },
        "id": "E4Jl2YnIforV",
        "outputId": "67d3329e-2e0d-4d2a-b03e-7f645a3296d8"
      },
      "source": [
        "beer_data.describe()"
      ],
      "execution_count": 6,
      "outputs": [
        {
          "output_type": "execute_result",
          "data": {
            "text/html": [
              "<div>\n",
              "<style scoped>\n",
              "    .dataframe tbody tr th:only-of-type {\n",
              "        vertical-align: middle;\n",
              "    }\n",
              "\n",
              "    .dataframe tbody tr th {\n",
              "        vertical-align: top;\n",
              "    }\n",
              "\n",
              "    .dataframe thead th {\n",
              "        text-align: right;\n",
              "    }\n",
              "</style>\n",
              "<table border=\"1\" class=\"dataframe\">\n",
              "  <thead>\n",
              "    <tr style=\"text-align: right;\">\n",
              "      <th></th>\n",
              "      <th>Final de Semana</th>\n",
              "      <th>Consumo de cerveja (litros)</th>\n",
              "    </tr>\n",
              "  </thead>\n",
              "  <tbody>\n",
              "    <tr>\n",
              "      <th>count</th>\n",
              "      <td>365.000000</td>\n",
              "      <td>365.000000</td>\n",
              "    </tr>\n",
              "    <tr>\n",
              "      <th>mean</th>\n",
              "      <td>0.284932</td>\n",
              "      <td>25.401367</td>\n",
              "    </tr>\n",
              "    <tr>\n",
              "      <th>std</th>\n",
              "      <td>0.452001</td>\n",
              "      <td>4.399143</td>\n",
              "    </tr>\n",
              "    <tr>\n",
              "      <th>min</th>\n",
              "      <td>0.000000</td>\n",
              "      <td>14.343000</td>\n",
              "    </tr>\n",
              "    <tr>\n",
              "      <th>25%</th>\n",
              "      <td>0.000000</td>\n",
              "      <td>22.008000</td>\n",
              "    </tr>\n",
              "    <tr>\n",
              "      <th>50%</th>\n",
              "      <td>0.000000</td>\n",
              "      <td>24.867000</td>\n",
              "    </tr>\n",
              "    <tr>\n",
              "      <th>75%</th>\n",
              "      <td>1.000000</td>\n",
              "      <td>28.631000</td>\n",
              "    </tr>\n",
              "    <tr>\n",
              "      <th>max</th>\n",
              "      <td>1.000000</td>\n",
              "      <td>37.937000</td>\n",
              "    </tr>\n",
              "  </tbody>\n",
              "</table>\n",
              "</div>"
            ],
            "text/plain": [
              "       Final de Semana  Consumo de cerveja (litros)\n",
              "count       365.000000                   365.000000\n",
              "mean          0.284932                    25.401367\n",
              "std           0.452001                     4.399143\n",
              "min           0.000000                    14.343000\n",
              "25%           0.000000                    22.008000\n",
              "50%           0.000000                    24.867000\n",
              "75%           1.000000                    28.631000\n",
              "max           1.000000                    37.937000"
            ]
          },
          "metadata": {
            "tags": []
          },
          "execution_count": 6
        }
      ]
    },
    {
      "cell_type": "code",
      "metadata": {
        "colab": {
          "base_uri": "https://localhost:8080/"
        },
        "id": "Fu66gI2pfwRO",
        "outputId": "f32adb0c-e757-496d-ce89-a5491a4a9d2e"
      },
      "source": [
        "beer_data.isna().any()"
      ],
      "execution_count": 7,
      "outputs": [
        {
          "output_type": "execute_result",
          "data": {
            "text/plain": [
              "Data                           True\n",
              "Temperatura Media (C)          True\n",
              "Temperatura Minima (C)         True\n",
              "Temperatura Maxima (C)         True\n",
              "Precipitacao (mm)              True\n",
              "Final de Semana                True\n",
              "Consumo de cerveja (litros)    True\n",
              "dtype: bool"
            ]
          },
          "metadata": {
            "tags": []
          },
          "execution_count": 7
        }
      ]
    },
    {
      "cell_type": "code",
      "metadata": {
        "id": "qmtF0w69f1CG"
      },
      "source": [
        "beer_data.dropna(how = 'all', inplace = True)"
      ],
      "execution_count": 8,
      "outputs": []
    },
    {
      "cell_type": "code",
      "metadata": {
        "id": "5-u7E59fgifN"
      },
      "source": [
        "beer_data.replace({',':'.'}, regex = True, inplace = True)"
      ],
      "execution_count": 11,
      "outputs": []
    },
    {
      "cell_type": "code",
      "metadata": {
        "id": "eVYPAdWdgOK6"
      },
      "source": [
        "beer_data['Data'] = pd.to_datetime(beer_data['Data'])"
      ],
      "execution_count": 12,
      "outputs": []
    },
    {
      "cell_type": "code",
      "metadata": {
        "colab": {
          "base_uri": "https://localhost:8080/"
        },
        "id": "RcSwoUJ5gZVt",
        "outputId": "928fdf2a-e07a-40ff-b1ea-8b6f290cc2a9"
      },
      "source": [
        "beer_data.info()\n",
        "days = ['Monday','Tuesday','Wednesday','Thursday','Friday','Saturday','Sunday']"
      ],
      "execution_count": 13,
      "outputs": [
        {
          "output_type": "stream",
          "text": [
            "<class 'pandas.core.frame.DataFrame'>\n",
            "Int64Index: 365 entries, 0 to 364\n",
            "Data columns (total 7 columns):\n",
            " #   Column                       Non-Null Count  Dtype         \n",
            "---  ------                       --------------  -----         \n",
            " 0   Data                         365 non-null    datetime64[ns]\n",
            " 1   Temperatura Media (C)        365 non-null    object        \n",
            " 2   Temperatura Minima (C)       365 non-null    object        \n",
            " 3   Temperatura Maxima (C)       365 non-null    object        \n",
            " 4   Precipitacao (mm)            365 non-null    object        \n",
            " 5   Final de Semana              365 non-null    float64       \n",
            " 6   Consumo de cerveja (litros)  365 non-null    float64       \n",
            "dtypes: datetime64[ns](1), float64(2), object(4)\n",
            "memory usage: 22.8+ KB\n"
          ],
          "name": "stdout"
        }
      ]
    },
    {
      "cell_type": "code",
      "metadata": {
        "id": "cX3z3hj3hL_d"
      },
      "source": [
        "beer_data['Day'] = beer_data['Data'].apply(lambda a: days[a.weekday()])"
      ],
      "execution_count": 14,
      "outputs": []
    },
    {
      "cell_type": "code",
      "metadata": {
        "colab": {
          "base_uri": "https://localhost:8080/",
          "height": 338
        },
        "id": "uIu3gVN4hgz1",
        "outputId": "83f2c87b-1d95-44f3-993c-0ebf032bc234"
      },
      "source": [
        "beer_data.head()"
      ],
      "execution_count": 15,
      "outputs": [
        {
          "output_type": "execute_result",
          "data": {
            "text/html": [
              "<div>\n",
              "<style scoped>\n",
              "    .dataframe tbody tr th:only-of-type {\n",
              "        vertical-align: middle;\n",
              "    }\n",
              "\n",
              "    .dataframe tbody tr th {\n",
              "        vertical-align: top;\n",
              "    }\n",
              "\n",
              "    .dataframe thead th {\n",
              "        text-align: right;\n",
              "    }\n",
              "</style>\n",
              "<table border=\"1\" class=\"dataframe\">\n",
              "  <thead>\n",
              "    <tr style=\"text-align: right;\">\n",
              "      <th></th>\n",
              "      <th>Data</th>\n",
              "      <th>Temperatura Media (C)</th>\n",
              "      <th>Temperatura Minima (C)</th>\n",
              "      <th>Temperatura Maxima (C)</th>\n",
              "      <th>Precipitacao (mm)</th>\n",
              "      <th>Final de Semana</th>\n",
              "      <th>Consumo de cerveja (litros)</th>\n",
              "      <th>Day</th>\n",
              "    </tr>\n",
              "  </thead>\n",
              "  <tbody>\n",
              "    <tr>\n",
              "      <th>0</th>\n",
              "      <td>2015-01-01</td>\n",
              "      <td>27.3</td>\n",
              "      <td>23.9</td>\n",
              "      <td>32.5</td>\n",
              "      <td>0</td>\n",
              "      <td>0.0</td>\n",
              "      <td>25.461</td>\n",
              "      <td>Thursday</td>\n",
              "    </tr>\n",
              "    <tr>\n",
              "      <th>1</th>\n",
              "      <td>2015-01-02</td>\n",
              "      <td>27.02</td>\n",
              "      <td>24.5</td>\n",
              "      <td>33.5</td>\n",
              "      <td>0</td>\n",
              "      <td>0.0</td>\n",
              "      <td>28.972</td>\n",
              "      <td>Friday</td>\n",
              "    </tr>\n",
              "    <tr>\n",
              "      <th>2</th>\n",
              "      <td>2015-01-03</td>\n",
              "      <td>24.82</td>\n",
              "      <td>22.4</td>\n",
              "      <td>29.9</td>\n",
              "      <td>0</td>\n",
              "      <td>1.0</td>\n",
              "      <td>30.814</td>\n",
              "      <td>Saturday</td>\n",
              "    </tr>\n",
              "    <tr>\n",
              "      <th>3</th>\n",
              "      <td>2015-01-04</td>\n",
              "      <td>23.98</td>\n",
              "      <td>21.5</td>\n",
              "      <td>28.6</td>\n",
              "      <td>1.2</td>\n",
              "      <td>1.0</td>\n",
              "      <td>29.799</td>\n",
              "      <td>Sunday</td>\n",
              "    </tr>\n",
              "    <tr>\n",
              "      <th>4</th>\n",
              "      <td>2015-01-05</td>\n",
              "      <td>23.82</td>\n",
              "      <td>21</td>\n",
              "      <td>28.3</td>\n",
              "      <td>0</td>\n",
              "      <td>0.0</td>\n",
              "      <td>28.900</td>\n",
              "      <td>Monday</td>\n",
              "    </tr>\n",
              "  </tbody>\n",
              "</table>\n",
              "</div>"
            ],
            "text/plain": [
              "        Data Temperatura Media (C)  ... Consumo de cerveja (litros)       Day\n",
              "0 2015-01-01                  27.3  ...                      25.461  Thursday\n",
              "1 2015-01-02                 27.02  ...                      28.972    Friday\n",
              "2 2015-01-03                 24.82  ...                      30.814  Saturday\n",
              "3 2015-01-04                 23.98  ...                      29.799    Sunday\n",
              "4 2015-01-05                 23.82  ...                      28.900    Monday\n",
              "\n",
              "[5 rows x 8 columns]"
            ]
          },
          "metadata": {
            "tags": []
          },
          "execution_count": 15
        }
      ]
    },
    {
      "cell_type": "code",
      "metadata": {
        "colab": {
          "base_uri": "https://localhost:8080/",
          "height": 334
        },
        "id": "3zm-KCYThl0G",
        "outputId": "01360685-ad84-4bba-f375-1a3785be98e9"
      },
      "source": [
        "plt.figure(figsize=(10,5))\n",
        "ax = sns.barplot(x='Day', y=\"Consumo de cerveja (litros)\", data=beer_data)"
      ],
      "execution_count": 16,
      "outputs": [
        {
          "output_type": "display_data",
          "data": {
            "image/png": "[encoded data removed]",
            "text/plain": [
              "<Figure size 720x360 with 1 Axes>"
            ]
          },
          "metadata": {
            "tags": [],
            "needs_background": "light"
          }
        }
      ]
    },
    {
      "cell_type": "code",
      "metadata": {
        "id": "CrG2VM3tiHIu"
      },
      "source": [
        "beer_data.drop(['Data',\"Day\"], axis=1, inplace=True)"
      ],
      "execution_count": 17,
      "outputs": []
    },
    {
      "cell_type": "code",
      "metadata": {
        "id": "fkbWWoOuiX6d"
      },
      "source": [
        "beer_data = beer_data.apply(pd.to_numeric)"
      ],
      "execution_count": 18,
      "outputs": []
    },
    {
      "cell_type": "code",
      "metadata": {
        "colab": {
          "base_uri": "https://localhost:8080/",
          "height": 450
        },
        "id": "vrZpsfbgipAO",
        "outputId": "e57dfed0-e251-487f-cb90-d6db67788d37"
      },
      "source": [
        "beer_data"
      ],
      "execution_count": 19,
      "outputs": [
        {
          "output_type": "execute_result",
          "data": {
            "text/html": [
              "<div>\n",
              "<style scoped>\n",
              "    .dataframe tbody tr th:only-of-type {\n",
              "        vertical-align: middle;\n",
              "    }\n",
              "\n",
              "    .dataframe tbody tr th {\n",
              "        vertical-align: top;\n",
              "    }\n",
              "\n",
              "    .dataframe thead th {\n",
              "        text-align: right;\n",
              "    }\n",
              "</style>\n",
              "<table border=\"1\" class=\"dataframe\">\n",
              "  <thead>\n",
              "    <tr style=\"text-align: right;\">\n",
              "      <th></th>\n",
              "      <th>Temperatura Media (C)</th>\n",
              "      <th>Temperatura Minima (C)</th>\n",
              "      <th>Temperatura Maxima (C)</th>\n",
              "      <th>Precipitacao (mm)</th>\n",
              "      <th>Final de Semana</th>\n",
              "      <th>Consumo de cerveja (litros)</th>\n",
              "    </tr>\n",
              "  </thead>\n",
              "  <tbody>\n",
              "    <tr>\n",
              "      <th>0</th>\n",
              "      <td>27.30</td>\n",
              "      <td>23.9</td>\n",
              "      <td>32.5</td>\n",
              "      <td>0.0</td>\n",
              "      <td>0.0</td>\n",
              "      <td>25.461</td>\n",
              "    </tr>\n",
              "    <tr>\n",
              "      <th>1</th>\n",
              "      <td>27.02</td>\n",
              "      <td>24.5</td>\n",
              "      <td>33.5</td>\n",
              "      <td>0.0</td>\n",
              "      <td>0.0</td>\n",
              "      <td>28.972</td>\n",
              "    </tr>\n",
              "    <tr>\n",
              "      <th>2</th>\n",
              "      <td>24.82</td>\n",
              "      <td>22.4</td>\n",
              "      <td>29.9</td>\n",
              "      <td>0.0</td>\n",
              "      <td>1.0</td>\n",
              "      <td>30.814</td>\n",
              "    </tr>\n",
              "    <tr>\n",
              "      <th>3</th>\n",
              "      <td>23.98</td>\n",
              "      <td>21.5</td>\n",
              "      <td>28.6</td>\n",
              "      <td>1.2</td>\n",
              "      <td>1.0</td>\n",
              "      <td>29.799</td>\n",
              "    </tr>\n",
              "    <tr>\n",
              "      <th>4</th>\n",
              "      <td>23.82</td>\n",
              "      <td>21.0</td>\n",
              "      <td>28.3</td>\n",
              "      <td>0.0</td>\n",
              "      <td>0.0</td>\n",
              "      <td>28.900</td>\n",
              "    </tr>\n",
              "    <tr>\n",
              "      <th>...</th>\n",
              "      <td>...</td>\n",
              "      <td>...</td>\n",
              "      <td>...</td>\n",
              "      <td>...</td>\n",
              "      <td>...</td>\n",
              "      <td>...</td>\n",
              "    </tr>\n",
              "    <tr>\n",
              "      <th>360</th>\n",
              "      <td>24.00</td>\n",
              "      <td>21.1</td>\n",
              "      <td>28.2</td>\n",
              "      <td>13.6</td>\n",
              "      <td>1.0</td>\n",
              "      <td>32.307</td>\n",
              "    </tr>\n",
              "    <tr>\n",
              "      <th>361</th>\n",
              "      <td>22.64</td>\n",
              "      <td>21.1</td>\n",
              "      <td>26.7</td>\n",
              "      <td>0.0</td>\n",
              "      <td>0.0</td>\n",
              "      <td>26.095</td>\n",
              "    </tr>\n",
              "    <tr>\n",
              "      <th>362</th>\n",
              "      <td>21.68</td>\n",
              "      <td>20.3</td>\n",
              "      <td>24.1</td>\n",
              "      <td>10.3</td>\n",
              "      <td>0.0</td>\n",
              "      <td>22.309</td>\n",
              "    </tr>\n",
              "    <tr>\n",
              "      <th>363</th>\n",
              "      <td>21.38</td>\n",
              "      <td>19.3</td>\n",
              "      <td>22.4</td>\n",
              "      <td>6.3</td>\n",
              "      <td>0.0</td>\n",
              "      <td>20.467</td>\n",
              "    </tr>\n",
              "    <tr>\n",
              "      <th>364</th>\n",
              "      <td>24.76</td>\n",
              "      <td>20.2</td>\n",
              "      <td>29.0</td>\n",
              "      <td>0.0</td>\n",
              "      <td>0.0</td>\n",
              "      <td>22.446</td>\n",
              "    </tr>\n",
              "  </tbody>\n",
              "</table>\n",
              "<p>365 rows × 6 columns</p>\n",
              "</div>"
            ],
            "text/plain": [
              "     Temperatura Media (C)  ...  Consumo de cerveja (litros)\n",
              "0                    27.30  ...                       25.461\n",
              "1                    27.02  ...                       28.972\n",
              "2                    24.82  ...                       30.814\n",
              "3                    23.98  ...                       29.799\n",
              "4                    23.82  ...                       28.900\n",
              "..                     ...  ...                          ...\n",
              "360                  24.00  ...                       32.307\n",
              "361                  22.64  ...                       26.095\n",
              "362                  21.68  ...                       22.309\n",
              "363                  21.38  ...                       20.467\n",
              "364                  24.76  ...                       22.446\n",
              "\n",
              "[365 rows x 6 columns]"
            ]
          },
          "metadata": {
            "tags": []
          },
          "execution_count": 19
        }
      ]
    },
    {
      "cell_type": "code",
      "metadata": {
        "id": "rNGYHga-isgD"
      },
      "source": [
        "from sklearn.model_selection import train_test_split\n",
        "x=beer_data.drop('Consumo de cerveja (litros)', axis = 1)"
      ],
      "execution_count": 20,
      "outputs": []
    },
    {
      "cell_type": "code",
      "metadata": {
        "id": "0JdxB050jENz"
      },
      "source": [
        "y=beer_data['Consumo de cerveja (litros)']"
      ],
      "execution_count": 21,
      "outputs": []
    },
    {
      "cell_type": "code",
      "metadata": {
        "id": "neF0qMOxjNJX"
      },
      "source": [
        "xtrain, xtest, ytrain, ytest = train_test_split(x,y, test_size = 0.2, random_state = 42)"
      ],
      "execution_count": 22,
      "outputs": []
    },
    {
      "cell_type": "code",
      "metadata": {
        "id": "05mYYj34jpDh"
      },
      "source": [
        "from sklearn.linear_model import LinearRegression\n",
        "L=LinearRegression()"
      ],
      "execution_count": 23,
      "outputs": []
    },
    {
      "cell_type": "code",
      "metadata": {
        "colab": {
          "base_uri": "https://localhost:8080/"
        },
        "id": "SJ3hBVq_jx72",
        "outputId": "f04f5d69-7e4a-4cde-d15a-e8f5bd38be96"
      },
      "source": [
        "L.fit(xtrain,ytrain)"
      ],
      "execution_count": 24,
      "outputs": [
        {
          "output_type": "execute_result",
          "data": {
            "text/plain": [
              "LinearRegression(copy_X=True, fit_intercept=True, n_jobs=None, normalize=False)"
            ]
          },
          "metadata": {
            "tags": []
          },
          "execution_count": 24
        }
      ]
    },
    {
      "cell_type": "code",
      "metadata": {
        "id": "YGqB74Joj8M_"
      },
      "source": [
        "ypred=L.predict(xtest)"
      ],
      "execution_count": 25,
      "outputs": []
    },
    {
      "cell_type": "code",
      "metadata": {
        "colab": {
          "base_uri": "https://localhost:8080/"
        },
        "id": "uOidMgjnkAqL",
        "outputId": "1ccad2c9-9e3f-429e-a625-0339adab3005"
      },
      "source": [
        "print(L.score(xtest,ytest))"
      ],
      "execution_count": 26,
      "outputs": [
        {
          "output_type": "stream",
          "text": [
            "0.7427938181737361\n"
          ],
          "name": "stdout"
        }
      ]
    },
    {
      "cell_type": "code",
      "metadata": {
        "id": "WK0dShKJkLmq"
      },
      "source": [
        ""
      ],
      "execution_count": null,
      "outputs": []
    }
  ]
}